{
 "cells": [
  {
   "cell_type": "code",
   "execution_count": 2,
   "id": "3de3e0c8",
   "metadata": {},
   "outputs": [],
   "source": [
    "import numpy as np"
   ]
  },
  {
   "cell_type": "markdown",
   "id": "a3d15b42",
   "metadata": {},
   "source": [
    "Your task is to:\n",
    "\n",
    "1. Calculate the mean, median, and standard deviation of the students' heights.\n",
    "\n",
    "2. Create a new array with the heights normalized, i.e., each height value should be transformed to have a mean of 0 and a standard deviation of 1.\n",
    "\n",
    "3. Determine the tallest and shortest students in the class using NumPy's argmax and argmin functions.\n",
    "\n",
    "4. Calculate the difference between the tallest and shortest students' heights.\n",
    "\n",
    "5. Randomly select 5 heights from the dataset without replacement."
   ]
  },
  {
   "cell_type": "markdown",
   "id": "a0cfbd02",
   "metadata": {},
   "source": [
    "In this assignment, you'll practice using NumPy to solve a problem. You have been given a dataset that represents the height (in centimeters) of 10 students in a class."
   ]
  },
  {
   "cell_type": "code",
   "execution_count": 3,
   "id": "72f8fdd2",
   "metadata": {},
   "outputs": [],
   "source": [
    "heights = np.array([160, 155, 172, 165, 180, 158, 175, 163, 171, 168])"
   ]
  },
  {
   "cell_type": "code",
   "execution_count": 7,
   "id": "9fe284ff",
   "metadata": {},
   "outputs": [
    {
     "name": "stdout",
     "output_type": "stream",
     "text": [
      "The mean to this data is:  166.7\n"
     ]
    }
   ],
   "source": [
    "#Mean\n",
    "mean = np.mean(heights)\n",
    "print(\"The mean to this data is: \", mean)"
   ]
  },
  {
   "cell_type": "code",
   "execution_count": 8,
   "id": "5a183d56",
   "metadata": {},
   "outputs": [
    {
     "name": "stdout",
     "output_type": "stream",
     "text": [
      "The median to this data is:  166.5\n"
     ]
    }
   ],
   "source": [
    "#Median\n",
    "median = np.median(heights)\n",
    "print(\"The median to this data is: \",median)"
   ]
  },
  {
   "cell_type": "code",
   "execution_count": 13,
   "id": "2f63aa51",
   "metadata": {},
   "outputs": [
    {
     "name": "stdout",
     "output_type": "stream",
     "text": [
      "The variance to this data is:  56.81\n",
      "\n",
      "\n",
      "The standard variation to this data is:  7.5372408744845085\n"
     ]
    }
   ],
   "source": [
    "#Variance and Standard Deviation\n",
    "variance = np.var(heights)\n",
    "print(\"The variance to this data is: \",variance)\n",
    "print(\"\\n\")\n",
    "std_dev = np.std(heights)\n",
    "print(\"The standard variation to this data is: \",std_dev)"
   ]
  },
  {
   "cell_type": "code",
   "execution_count": 14,
   "id": "3bb17c38",
   "metadata": {},
   "outputs": [
    {
     "name": "stdout",
     "output_type": "stream",
     "text": [
      "The normalized heights to this data is:  [-0.88891945 -1.55229217  0.70317509 -0.22554673  1.76457144 -1.15426854\n",
      "  1.10119872 -0.49089581  0.57050054  0.17247691]\n"
     ]
    }
   ],
   "source": [
    "#Normalized heights\n",
    "norm_heights = (heights-mean)/std_dev\n",
    "print(\"The normalized heights to this data is: \",norm_heights)"
   ]
  },
  {
   "cell_type": "code",
   "execution_count": 18,
   "id": "44ef6840",
   "metadata": {},
   "outputs": [
    {
     "name": "stdout",
     "output_type": "stream",
     "text": [
      "The tallest student is:  4  cm \n",
      "\n",
      "The shortest student is:  1  cm \n",
      "\n"
     ]
    }
   ],
   "source": [
    "#Tallest and Shortest students\n",
    "height_argmax = np.argmax(heights)\n",
    "print(\"The tallest student is: \",height_argmax, \" cm \\n\")\n",
    "height_argmin = np.argmin(heights)\n",
    "print(\"The shortest student is: \",height_argmin, \" cm \\n\")"
   ]
  },
  {
   "cell_type": "code",
   "execution_count": 22,
   "id": "07698663",
   "metadata": {},
   "outputs": [
    {
     "name": "stdout",
     "output_type": "stream",
     "text": [
      "The deifference between the tallest and the shortest student is:  25  cm\n"
     ]
    }
   ],
   "source": [
    "#Difference between the tallest and the shortest student\n",
    "height_max = np.max(heights)\n",
    "height_min = np.min(heights)\n",
    "height_diff = height_max - height_min\n",
    "print(\"The deifference between the tallest and the shortest student is: \",height_diff, \" cm\")"
   ]
  },
  {
   "cell_type": "code",
   "execution_count": 31,
   "id": "447ba596",
   "metadata": {},
   "outputs": [
    {
     "name": "stdout",
     "output_type": "stream",
     "text": [
      "Random heights with replacement:  [168 155 175 175 172] \n",
      "\n",
      "Random heights without replacement:  [168 180 163 172 155]\n"
     ]
    }
   ],
   "source": [
    "#Random selection of heights with and without replacement\n",
    "with_replacement = np.random.choice(heights, 5, replace=True)\n",
    "print(\"Random heights with replacement: \", with_replacement, \"\\n\")\n",
    "without_replacement = np.random.choice(heights, 5, replace=False)\n",
    "print(\"Random heights without replacement: \", without_replacement)"
   ]
  }
 ],
 "metadata": {
  "kernelspec": {
   "display_name": "Python 3 (ipykernel)",
   "language": "python",
   "name": "python3"
  },
  "language_info": {
   "codemirror_mode": {
    "name": "ipython",
    "version": 3
   },
   "file_extension": ".py",
   "mimetype": "text/x-python",
   "name": "python",
   "nbconvert_exporter": "python",
   "pygments_lexer": "ipython3",
   "version": "3.11.1"
  }
 },
 "nbformat": 4,
 "nbformat_minor": 5
}
